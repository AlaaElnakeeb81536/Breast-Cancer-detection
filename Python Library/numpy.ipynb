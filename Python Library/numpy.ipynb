{
 "cells": [
  {
   "cell_type": "markdown",
   "id": "2b9718c6",
   "metadata": {},
   "source": [
    "# Numpy"
   ]
  },
  {
   "cell_type": "code",
   "execution_count": 160,
   "id": "c0c951d6",
   "metadata": {},
   "outputs": [
    {
     "data": {
      "text/plain": [
       "[2, 5, 6, 7]"
      ]
     },
     "execution_count": 160,
     "metadata": {},
     "output_type": "execute_result"
    }
   ],
   "source": [
    "# numpy:  الخ...min ,medianتتعامل مع الارقام وعملياتها الحسابيه من ضرب المصفوفات ونجيب ال\n",
    "[2,5,6,7] #list in py"
   ]
  },
  {
   "cell_type": "code",
   "execution_count": 161,
   "id": "f05a6b7a",
   "metadata": {},
   "outputs": [
    {
     "data": {
      "text/plain": [
       "[2, 'alaa', 2.5, [1, 2, 3]]"
      ]
     },
     "execution_count": 161,
     "metadata": {},
     "output_type": "execute_result"
    }
   ],
   "source": [
    "#in py ,list can conain many datatyoe\n",
    "[2,\"alaa\",2.5,[1,2,3]]"
   ]
  },
  {
   "cell_type": "code",
   "execution_count": 162,
   "id": "bf1b160c",
   "metadata": {},
   "outputs": [
    {
     "data": {
      "text/plain": [
       "array([2, 5, 6, 7])"
      ]
     },
     "execution_count": 162,
     "metadata": {},
     "output_type": "execute_result"
    }
   ],
   "source": [
    "import numpy as np\n",
    "np.array([2, 5, 6, 7]) # in numpy this si array not list"
   ]
  },
  {
   "cell_type": "code",
   "execution_count": 163,
   "id": "9641dc74",
   "metadata": {},
   "outputs": [
    {
     "data": {
      "text/plain": [
       "array([1.2, 2. , 3. , 4. ])"
      ]
     },
     "execution_count": 163,
     "metadata": {},
     "output_type": "execute_result"
    }
   ],
   "source": [
    "#in numpy ,array contain the same datatype not variety\n",
    "np.array([1.2,2,3,4])"
   ]
  },
  {
   "cell_type": "code",
   "execution_count": 164,
   "id": "7d47271a",
   "metadata": {},
   "outputs": [],
   "source": [
    "# in ml , we use numpy not list (السبب الرىيسى ف ذلك هو السرعه numpy is faster than list )"
   ]
  },
  {
   "cell_type": "markdown",
   "id": "8791772e",
   "metadata": {},
   "source": [
    "# creating numpy array"
   ]
  },
  {
   "cell_type": "code",
   "execution_count": 165,
   "id": "7bdb874f",
   "metadata": {},
   "outputs": [],
   "source": [
    "import numpy as np #   استدعاء للمكتبه و لاحظ ان (as np) يمكن حذفها و لكن استخدمها لتسهيل الاستدعاء"
   ]
  },
  {
   "cell_type": "code",
   "execution_count": 166,
   "id": "5d79b3ac",
   "metadata": {},
   "outputs": [
    {
     "data": {
      "text/plain": [
       "[1, 2, 3, 4]"
      ]
     },
     "execution_count": 166,
     "metadata": {},
     "output_type": "execute_result"
    }
   ],
   "source": [
    "x=[1,2,3,4] #integer array\n",
    "x"
   ]
  },
  {
   "cell_type": "code",
   "execution_count": 167,
   "id": "7d8c2356",
   "metadata": {},
   "outputs": [
    {
     "data": {
      "text/plain": [
       "array([1., 2., 3., 4.], dtype=float32)"
      ]
     },
     "execution_count": 167,
     "metadata": {},
     "output_type": "execute_result"
    }
   ],
   "source": [
    "np.array([1,2,3,4],dtype='float32') #se the datatype"
   ]
  },
  {
   "cell_type": "markdown",
   "id": "889959e4",
   "metadata": {},
   "source": [
    "# from scratch"
   ]
  },
  {
   "cell_type": "code",
   "execution_count": 168,
   "id": "12991ca4",
   "metadata": {},
   "outputs": [
    {
     "data": {
      "text/plain": [
       "array([0, 0, 0, 0, 0, 0, 0, 0, 0, 0])"
      ]
     },
     "execution_count": 168,
     "metadata": {},
     "output_type": "execute_result"
    }
   ],
   "source": [
    "np.zeros(10,dtype='int32')#create a length-10 integer array filled with zeros"
   ]
  },
  {
   "cell_type": "code",
   "execution_count": 169,
   "id": "409014a1",
   "metadata": {},
   "outputs": [
    {
     "data": {
      "text/plain": [
       "array([[1, 1, 1, 1, 1],\n",
       "       [1, 1, 1, 1, 1],\n",
       "       [1, 1, 1, 1, 1]])"
      ]
     },
     "execution_count": 169,
     "metadata": {},
     "output_type": "execute_result"
    }
   ],
   "source": [
    "np.ones((3,5),dtype='int32') #creating matrix of 3*5"
   ]
  },
  {
   "cell_type": "code",
   "execution_count": 170,
   "id": "3c8a93bd",
   "metadata": {},
   "outputs": [
    {
     "data": {
      "text/plain": [
       "array([[[1, 1, 1, 1],\n",
       "        [1, 1, 1, 1],\n",
       "        [1, 1, 1, 1],\n",
       "        [1, 1, 1, 1],\n",
       "        [1, 1, 1, 1]],\n",
       "\n",
       "       [[1, 1, 1, 1],\n",
       "        [1, 1, 1, 1],\n",
       "        [1, 1, 1, 1],\n",
       "        [1, 1, 1, 1],\n",
       "        [1, 1, 1, 1]],\n",
       "\n",
       "       [[1, 1, 1, 1],\n",
       "        [1, 1, 1, 1],\n",
       "        [1, 1, 1, 1],\n",
       "        [1, 1, 1, 1],\n",
       "        [1, 1, 1, 1]]])"
      ]
     },
     "execution_count": 170,
     "metadata": {},
     "output_type": "execute_result"
    }
   ],
   "source": [
    "np.ones((3,5,4),dtype='int32') #creating matrix of 3 matrixes,each matrix contain 5 rows*4 columns "
   ]
  },
  {
   "cell_type": "code",
   "execution_count": 171,
   "id": "8cf37138",
   "metadata": {},
   "outputs": [
    {
     "data": {
      "text/plain": [
       "array([[2.75, 2.75, 2.75, 2.75, 2.75],\n",
       "       [2.75, 2.75, 2.75, 2.75, 2.75],\n",
       "       [2.75, 2.75, 2.75, 2.75, 2.75]])"
      ]
     },
     "execution_count": 171,
     "metadata": {},
     "output_type": "execute_result"
    }
   ],
   "source": [
    "np.full((3,5),2.75) #create matrix filled with value=2.75"
   ]
  },
  {
   "cell_type": "code",
   "execution_count": 172,
   "id": "f6a9671c",
   "metadata": {},
   "outputs": [
    {
     "data": {
      "text/plain": [
       "array([0, 2, 4, 6, 8])"
      ]
     },
     "execution_count": 172,
     "metadata": {},
     "output_type": "execute_result"
    }
   ],
   "source": [
    "np.arange(0,10,2)# from 0 t0 10 stepping with 2 "
   ]
  },
  {
   "cell_type": "code",
   "execution_count": 173,
   "id": "f805176b",
   "metadata": {},
   "outputs": [
    {
     "data": {
      "text/plain": [
       "array([[0.70807258, 0.02058449, 0.96990985],\n",
       "       [0.83244264, 0.21233911, 0.18182497],\n",
       "       [0.18340451, 0.30424224, 0.52475643]])"
      ]
     },
     "execution_count": 173,
     "metadata": {},
     "output_type": "execute_result"
    }
   ],
   "source": [
    "np.random.random((3,3)) # random values between 0 and 1"
   ]
  },
  {
   "cell_type": "code",
   "execution_count": 174,
   "id": "9eebd3d6",
   "metadata": {},
   "outputs": [
    {
     "data": {
      "text/plain": [
       "array([[-1.72491783, -0.56228753, -1.01283112],\n",
       "       [ 0.31424733, -0.90802408, -1.4123037 ],\n",
       "       [ 1.46564877, -0.2257763 ,  0.0675282 ]])"
      ]
     },
     "execution_count": 174,
     "metadata": {},
     "output_type": "execute_result"
    }
   ],
   "source": [
    "np.random.normal(0,1,(3,3)) # create a 3*3 aaray of normally distributed random values\n",
    "# with mean=0 and standarad deviation =1"
   ]
  },
  {
   "cell_type": "code",
   "execution_count": 175,
   "id": "03d6a39d",
   "metadata": {},
   "outputs": [
    {
     "data": {
      "text/plain": [
       "array([[8, 2, 4],\n",
       "       [2, 6, 4],\n",
       "       [8, 6, 1]])"
      ]
     },
     "execution_count": 175,
     "metadata": {},
     "output_type": "execute_result"
    }
   ],
   "source": [
    "np.random.randint(0,10,(3,3)) #create array of random intrgers in the interval[0,10]"
   ]
  },
  {
   "cell_type": "code",
   "execution_count": 176,
   "id": "78568049",
   "metadata": {},
   "outputs": [
    {
     "data": {
      "text/plain": [
       "array([[1., 0., 0.],\n",
       "       [0., 1., 0.],\n",
       "       [0., 0., 1.]])"
      ]
     },
     "execution_count": 176,
     "metadata": {},
     "output_type": "execute_result"
    }
   ],
   "source": [
    "np.eye(3)# create 3*3 identity matrix"
   ]
  },
  {
   "cell_type": "markdown",
   "id": "e5da4bad",
   "metadata": {},
   "source": [
    "# numpy Array Attributes"
   ]
  },
  {
   "cell_type": "code",
   "execution_count": 177,
   "id": "800e9b33",
   "metadata": {},
   "outputs": [],
   "source": [
    "x=np.zeros((3,4,5))"
   ]
  },
  {
   "cell_type": "code",
   "execution_count": 178,
   "id": "363f5259",
   "metadata": {},
   "outputs": [
    {
     "name": "stdout",
     "output_type": "stream",
     "text": [
      "x ndim: 3\n",
      "x shape: (3, 4, 5)\n",
      "dtype: float64\n",
      "x size: 60\n"
     ]
    }
   ],
   "source": [
    "print(\"x ndim:\",x.ndim)# عدد الابعاد\n",
    "print(\"x shape:\",x.shape)# شكل الارى\n",
    "print(\"dtype:\",x.dtype)\n",
    "print(\"x size:\",x.size)#عدد العناصر"
   ]
  },
  {
   "cell_type": "markdown",
   "id": "47d40fb8",
   "metadata": {},
   "source": [
    "# Array indexing"
   ]
  },
  {
   "cell_type": "code",
   "execution_count": 179,
   "id": "d0947d5c",
   "metadata": {
    "scrolled": true
   },
   "outputs": [
    {
     "data": {
      "text/plain": [
       "array([1, 2, 3, 4, 5])"
      ]
     },
     "execution_count": 179,
     "metadata": {},
     "output_type": "execute_result"
    }
   ],
   "source": [
    "x1=np.array([1,2,3,4,5])\n",
    "x1"
   ]
  },
  {
   "cell_type": "code",
   "execution_count": 180,
   "id": "76ae87bd",
   "metadata": {},
   "outputs": [
    {
     "data": {
      "text/plain": [
       "1"
      ]
     },
     "execution_count": 180,
     "metadata": {},
     "output_type": "execute_result"
    }
   ],
   "source": [
    "x1[0]"
   ]
  },
  {
   "cell_type": "code",
   "execution_count": 181,
   "id": "354ae23c",
   "metadata": {},
   "outputs": [
    {
     "data": {
      "text/plain": [
       "5"
      ]
     },
     "execution_count": 181,
     "metadata": {},
     "output_type": "execute_result"
    }
   ],
   "source": [
    "x1[4]"
   ]
  },
  {
   "cell_type": "code",
   "execution_count": 182,
   "id": "b2e8da44",
   "metadata": {},
   "outputs": [
    {
     "data": {
      "text/plain": [
       "5"
      ]
     },
     "execution_count": 182,
     "metadata": {},
     "output_type": "execute_result"
    }
   ],
   "source": [
    "x1[-1] # note that x1[4]=x1[-1]"
   ]
  },
  {
   "cell_type": "code",
   "execution_count": 183,
   "id": "480001ae",
   "metadata": {},
   "outputs": [
    {
     "data": {
      "text/plain": [
       "4"
      ]
     },
     "execution_count": 183,
     "metadata": {},
     "output_type": "execute_result"
    }
   ],
   "source": [
    "x1[-2]"
   ]
  },
  {
   "cell_type": "code",
   "execution_count": 184,
   "id": "ec28b41f",
   "metadata": {},
   "outputs": [
    {
     "data": {
      "text/plain": [
       "array([[ 1,  2,  3,  4],\n",
       "       [ 5,  6,  7,  8],\n",
       "       [ 9, 10, 11, 12]])"
      ]
     },
     "execution_count": 184,
     "metadata": {},
     "output_type": "execute_result"
    }
   ],
   "source": [
    "x2=np.array([[1,2,3,4],[5,6,7,8],[9,10,11,12]]) #2d array\n",
    "x2"
   ]
  },
  {
   "cell_type": "code",
   "execution_count": 185,
   "id": "8df7e961",
   "metadata": {},
   "outputs": [
    {
     "name": "stdout",
     "output_type": "stream",
     "text": [
      "3\n"
     ]
    }
   ],
   "source": [
    "import numpy as np\n",
    "c=np.array([[[]]])\n",
    "print(c.ndim)"
   ]
  },
  {
   "cell_type": "code",
   "execution_count": 186,
   "id": "c7d47c8e",
   "metadata": {},
   "outputs": [
    {
     "data": {
      "text/plain": [
       "1"
      ]
     },
     "execution_count": 186,
     "metadata": {},
     "output_type": "execute_result"
    }
   ],
   "source": [
    "x2[0,0]"
   ]
  },
  {
   "cell_type": "code",
   "execution_count": 187,
   "id": "88c5c283",
   "metadata": {},
   "outputs": [
    {
     "data": {
      "text/plain": [
       "2"
      ]
     },
     "execution_count": 187,
     "metadata": {},
     "output_type": "execute_result"
    }
   ],
   "source": [
    "x2[0,1]"
   ]
  },
  {
   "cell_type": "code",
   "execution_count": 188,
   "id": "a2e08a23",
   "metadata": {},
   "outputs": [
    {
     "data": {
      "text/plain": [
       "9"
      ]
     },
     "execution_count": 188,
     "metadata": {},
     "output_type": "execute_result"
    }
   ],
   "source": [
    "x2[2,0]"
   ]
  },
  {
   "cell_type": "code",
   "execution_count": 189,
   "id": "a4455015",
   "metadata": {},
   "outputs": [
    {
     "data": {
      "text/plain": [
       "12"
      ]
     },
     "execution_count": 189,
     "metadata": {},
     "output_type": "execute_result"
    }
   ],
   "source": [
    "x2[2,-1]"
   ]
  },
  {
   "cell_type": "code",
   "execution_count": 190,
   "id": "9eac73ba",
   "metadata": {},
   "outputs": [
    {
     "data": {
      "text/plain": [
       "array([[ 5,  2,  3,  4],\n",
       "       [ 5,  6,  7,  8],\n",
       "       [ 9, 10, 11, 12]])"
      ]
     },
     "execution_count": 190,
     "metadata": {},
     "output_type": "execute_result"
    }
   ],
   "source": [
    "x2[0,0]=5\n",
    "x2"
   ]
  },
  {
   "cell_type": "markdown",
   "id": "cb1ab937",
   "metadata": {},
   "source": [
    "# Array slicing:Acessing subarrays\n"
   ]
  },
  {
   "cell_type": "markdown",
   "id": "d3e52833",
   "metadata": {},
   "source": [
    "# 1D subArray"
   ]
  },
  {
   "cell_type": "code",
   "execution_count": 191,
   "id": "f4cc8887",
   "metadata": {},
   "outputs": [
    {
     "data": {
      "text/plain": [
       "array([0, 1, 2, 3, 4, 5, 6, 7, 8, 9])"
      ]
     },
     "execution_count": 191,
     "metadata": {},
     "output_type": "execute_result"
    }
   ],
   "source": [
    "x=np.arange(10)\n",
    "x"
   ]
  },
  {
   "cell_type": "code",
   "execution_count": 192,
   "id": "cde2b52e",
   "metadata": {},
   "outputs": [
    {
     "data": {
      "text/plain": [
       "array([1, 2, 3, 4])"
      ]
     },
     "execution_count": 192,
     "metadata": {},
     "output_type": "execute_result"
    }
   ],
   "source": [
    "x[1:5]# index num 5 not included"
   ]
  },
  {
   "cell_type": "code",
   "execution_count": 193,
   "id": "e2b2fad9",
   "metadata": {},
   "outputs": [
    {
     "data": {
      "text/plain": [
       "array([0, 1, 2])"
      ]
     },
     "execution_count": 193,
     "metadata": {},
     "output_type": "execute_result"
    }
   ],
   "source": [
    "x[:3]#first three element"
   ]
  },
  {
   "cell_type": "code",
   "execution_count": 194,
   "id": "2ad08532",
   "metadata": {},
   "outputs": [
    {
     "data": {
      "text/plain": [
       "array([5, 6, 7, 8, 9])"
      ]
     },
     "execution_count": 194,
     "metadata": {},
     "output_type": "execute_result"
    }
   ],
   "source": [
    "x[5:]#from index num 5 to  the end"
   ]
  },
  {
   "cell_type": "code",
   "execution_count": 195,
   "id": "5d8b2056",
   "metadata": {},
   "outputs": [
    {
     "data": {
      "text/plain": [
       "array([ 3, 13, 17,  8,  1, 19, 14,  6, 11,  7])"
      ]
     },
     "execution_count": 195,
     "metadata": {},
     "output_type": "execute_result"
    }
   ],
   "source": [
    "x1=np.random.randint(0,20,10)\n",
    "x1"
   ]
  },
  {
   "cell_type": "code",
   "execution_count": 196,
   "id": "ea58755b",
   "metadata": {},
   "outputs": [
    {
     "data": {
      "text/plain": [
       "array([2, 3, 4, 5])"
      ]
     },
     "execution_count": 196,
     "metadata": {},
     "output_type": "execute_result"
    }
   ],
   "source": [
    "x[2:6] #6-2=4"
   ]
  },
  {
   "cell_type": "code",
   "execution_count": 197,
   "id": "045d22d3",
   "metadata": {},
   "outputs": [
    {
     "data": {
      "text/plain": [
       "array([0, 2, 4, 6, 8])"
      ]
     },
     "execution_count": 197,
     "metadata": {},
     "output_type": "execute_result"
    }
   ],
   "source": [
    "x[::2]#امشى خطوتين ع كل الاري"
   ]
  },
  {
   "cell_type": "code",
   "execution_count": 198,
   "id": "763dd3f9",
   "metadata": {},
   "outputs": [
    {
     "data": {
      "text/plain": [
       "array([1, 4, 7])"
      ]
     },
     "execution_count": 198,
     "metadata": {},
     "output_type": "execute_result"
    }
   ],
   "source": [
    "x[1::3]#indexامشى 3 خطوات ع كل الاري من ال 1"
   ]
  },
  {
   "cell_type": "code",
   "execution_count": 199,
   "id": "ba9cf69c",
   "metadata": {},
   "outputs": [
    {
     "data": {
      "text/plain": [
       "array([9, 8, 7, 6, 5, 4, 3, 2, 1, 0])"
      ]
     },
     "execution_count": 199,
     "metadata": {},
     "output_type": "execute_result"
    }
   ],
   "source": [
    "x[::-1]# all element reversed"
   ]
  },
  {
   "cell_type": "code",
   "execution_count": 200,
   "id": "98873e64",
   "metadata": {},
   "outputs": [
    {
     "data": {
      "text/plain": [
       "array([5, 3, 1])"
      ]
     },
     "execution_count": 200,
     "metadata": {},
     "output_type": "execute_result"
    }
   ],
   "source": [
    "x[5::-2] #reserved every other from index 5 احنا قولنا ان احنا هنبدا من 5 لحد الاخر بس هنا ف سالب يعنى هنقلب  و تمشى للناحيه التانيه خطوتين"
   ]
  },
  {
   "cell_type": "markdown",
   "id": "3d95d7ed",
   "metadata": {},
   "source": [
    "# multidimensional"
   ]
  },
  {
   "cell_type": "code",
   "execution_count": 201,
   "id": "3357c723",
   "metadata": {},
   "outputs": [
    {
     "data": {
      "text/plain": [
       "array([[12,  5,  4,  6,  7],\n",
       "       [ 1,  2,  3,  4,  5],\n",
       "       [ 7,  8,  9, 10, 11]])"
      ]
     },
     "execution_count": 201,
     "metadata": {},
     "output_type": "execute_result"
    }
   ],
   "source": [
    "x2=np.array([[12,5,4,6,7],[1,2,3,4,5],[7,8,9,10,11]])\n",
    "x2"
   ]
  },
  {
   "cell_type": "code",
   "execution_count": 202,
   "id": "92204aef",
   "metadata": {},
   "outputs": [
    {
     "data": {
      "text/plain": [
       "array([[4],\n",
       "       [3]])"
      ]
     },
     "execution_count": 202,
     "metadata": {},
     "output_type": "execute_result"
    }
   ],
   "source": [
    "x2[0:2,2:3]"
   ]
  },
  {
   "cell_type": "code",
   "execution_count": 203,
   "id": "0f908f44",
   "metadata": {},
   "outputs": [
    {
     "data": {
      "text/plain": [
       "array([[12,  5,  4],\n",
       "       [ 1,  2,  3]])"
      ]
     },
     "execution_count": 203,
     "metadata": {},
     "output_type": "execute_result"
    }
   ],
   "source": [
    "x2[:2,:3] # 2 rows ,3 col"
   ]
  },
  {
   "cell_type": "code",
   "execution_count": 204,
   "id": "2d3c08ba",
   "metadata": {},
   "outputs": [
    {
     "data": {
      "text/plain": [
       "array([2, 3])"
      ]
     },
     "execution_count": 204,
     "metadata": {},
     "output_type": "execute_result"
    }
   ],
   "source": [
    "x2[1,1:3]"
   ]
  },
  {
   "cell_type": "code",
   "execution_count": 205,
   "id": "2cc4c530",
   "metadata": {},
   "outputs": [
    {
     "data": {
      "text/plain": [
       "array([[12,  5,  4],\n",
       "       [ 1,  2,  3]])"
      ]
     },
     "execution_count": 205,
     "metadata": {},
     "output_type": "execute_result"
    }
   ],
   "source": [
    "x2[:2,:3]# first 2 rows and first 3 col"
   ]
  },
  {
   "cell_type": "code",
   "execution_count": 206,
   "id": "d9c72d04",
   "metadata": {},
   "outputs": [
    {
     "data": {
      "text/plain": [
       "array([[12,  4,  7],\n",
       "       [ 1,  3,  5],\n",
       "       [ 7,  9, 11]])"
      ]
     },
     "execution_count": 206,
     "metadata": {},
     "output_type": "execute_result"
    }
   ],
   "source": [
    "x2[:3,::2] "
   ]
  },
  {
   "cell_type": "code",
   "execution_count": 207,
   "id": "06dad8ef",
   "metadata": {},
   "outputs": [
    {
     "data": {
      "text/plain": [
       "array([[ 4,  5],\n",
       "       [10, 11]])"
      ]
     },
     "execution_count": 207,
     "metadata": {},
     "output_type": "execute_result"
    }
   ],
   "source": [
    "x2[1:,3:]"
   ]
  },
  {
   "cell_type": "code",
   "execution_count": 208,
   "id": "32ed3f51",
   "metadata": {},
   "outputs": [
    {
     "data": {
      "text/plain": [
       "array([[11, 10,  9,  8,  7],\n",
       "       [ 5,  4,  3,  2,  1],\n",
       "       [ 7,  6,  4,  5, 12]])"
      ]
     },
     "execution_count": 208,
     "metadata": {},
     "output_type": "execute_result"
    }
   ],
   "source": [
    "x2[::-1,::-1]"
   ]
  },
  {
   "cell_type": "code",
   "execution_count": 209,
   "id": "5e2e9c14",
   "metadata": {},
   "outputs": [
    {
     "data": {
      "text/plain": [
       "array([12,  1,  7])"
      ]
     },
     "execution_count": 209,
     "metadata": {},
     "output_type": "execute_result"
    }
   ],
   "source": [
    "x2[:,0]# first col of x2"
   ]
  },
  {
   "cell_type": "code",
   "execution_count": 210,
   "id": "1cadb4a1",
   "metadata": {},
   "outputs": [
    {
     "data": {
      "text/plain": [
       "array([12,  5,  4,  6,  7])"
      ]
     },
     "execution_count": 210,
     "metadata": {},
     "output_type": "execute_result"
    }
   ],
   "source": [
    "x2[0,:]#first row of x2"
   ]
  },
  {
   "cell_type": "code",
   "execution_count": 211,
   "id": "a8a9a4a4",
   "metadata": {},
   "outputs": [
    {
     "data": {
      "text/plain": [
       "array([12,  5,  4,  6,  7])"
      ]
     },
     "execution_count": 211,
     "metadata": {},
     "output_type": "execute_result"
    }
   ],
   "source": [
    "x2[0]# equivalent to x2[0,:]"
   ]
  },
  {
   "cell_type": "markdown",
   "id": "2ee8f857",
   "metadata": {},
   "source": [
    "## subarray as no_copy views"
   ]
  },
  {
   "cell_type": "code",
   "execution_count": 212,
   "id": "c1ad00d3",
   "metadata": {},
   "outputs": [
    {
     "name": "stdout",
     "output_type": "stream",
     "text": [
      "[[12  5]\n",
      " [ 1  2]]\n"
     ]
    }
   ],
   "source": [
    "x2_sub=x2[:2,:2]\n",
    "print(x2_sub)"
   ]
  },
  {
   "cell_type": "code",
   "execution_count": 213,
   "id": "33b7e8a9",
   "metadata": {},
   "outputs": [
    {
     "name": "stdout",
     "output_type": "stream",
     "text": [
      "[[99  5]\n",
      " [ 1  2]]\n"
     ]
    }
   ],
   "source": [
    "x2_sub[0,0]=99\n",
    "print(x2_sub)\n"
   ]
  },
  {
   "cell_type": "code",
   "execution_count": 214,
   "id": "c1ba2931",
   "metadata": {},
   "outputs": [
    {
     "name": "stdout",
     "output_type": "stream",
     "text": [
      "[[99  5  4  6  7]\n",
      " [ 1  2  3  4  5]\n",
      " [ 7  8  9 10 11]]\n"
     ]
    }
   ],
   "source": [
    "print(x2) #note that:  هيحصل ف الارىsubbarrayن الارى هنلاحظ ان الاتنين بيتخزنوا ف نفس المكان ف الميمورى ف اى تغير هيحصل ف ا subbarray لما اخدنا "
   ]
  },
  {
   "cell_type": "markdown",
   "id": "f0e93767",
   "metadata": {},
   "source": [
    "# creating copies of arrays"
   ]
  },
  {
   "cell_type": "code",
   "execution_count": 215,
   "id": "cddb4882",
   "metadata": {},
   "outputs": [
    {
     "name": "stdout",
     "output_type": "stream",
     "text": [
      "[[99  5]\n",
      " [ 1  2]]\n"
     ]
    }
   ],
   "source": [
    "x2_sub_copy=x2[:2,:2].copy()\n",
    "print(x2_sub_copy)"
   ]
  },
  {
   "cell_type": "code",
   "execution_count": 216,
   "id": "e9dc47b9",
   "metadata": {},
   "outputs": [
    {
     "name": "stdout",
     "output_type": "stream",
     "text": [
      "[[78  5]\n",
      " [ 1  2]]\n"
     ]
    }
   ],
   "source": [
    "x2_sub_copy[0,0]=78\n",
    "print(x2_sub_copy)"
   ]
  },
  {
   "cell_type": "code",
   "execution_count": 217,
   "id": "4a32162f",
   "metadata": {},
   "outputs": [
    {
     "name": "stdout",
     "output_type": "stream",
     "text": [
      "[[99  5  4  6  7]\n",
      " [ 1  2  3  4  5]\n",
      " [ 7  8  9 10 11]]\n"
     ]
    }
   ],
   "source": [
    "print(x2)#x2_sub_copy and x2 will store in different places in memory"
   ]
  },
  {
   "cell_type": "markdown",
   "id": "69015f0c",
   "metadata": {},
   "source": [
    "# Reshaping array"
   ]
  },
  {
   "cell_type": "code",
   "execution_count": 218,
   "id": "081f13c8",
   "metadata": {},
   "outputs": [
    {
     "name": "stdout",
     "output_type": "stream",
     "text": [
      "[1 2 3 4 5 6 7 8 9]\n"
     ]
    }
   ],
   "source": [
    "grid=np.arange(1,10)\n",
    "print(grid)"
   ]
  },
  {
   "cell_type": "code",
   "execution_count": 219,
   "id": "3fa4cc66",
   "metadata": {},
   "outputs": [
    {
     "name": "stdout",
     "output_type": "stream",
     "text": [
      "[[1 2 3]\n",
      " [4 5 6]\n",
      " [7 8 9]]\n"
     ]
    }
   ],
   "source": [
    "grid=grid.reshape(3,3) # change from 1d to 2d\n",
    "print(grid)"
   ]
  },
  {
   "cell_type": "code",
   "execution_count": 220,
   "id": "57fe6b5f",
   "metadata": {},
   "outputs": [
    {
     "name": "stdout",
     "output_type": "stream",
     "text": [
      "[[1 2 3]\n",
      " [4 5 6]\n",
      " [7 8 9]]\n"
     ]
    }
   ],
   "source": [
    "#another way\n",
    "grid=np.arange(1,10).reshape(3,3)\n",
    "print(grid)"
   ]
  },
  {
   "cell_type": "code",
   "execution_count": 221,
   "id": "f755a93f",
   "metadata": {},
   "outputs": [
    {
     "data": {
      "text/plain": [
       "array([[1, 2, 3]])"
      ]
     },
     "execution_count": 221,
     "metadata": {},
     "output_type": "execute_result"
    }
   ],
   "source": [
    "x=np.array([1,2,3]).reshape(1,3) #change from 1d array contain 3 elements into row vector in the shape of 1 row and 3 col via reshape\n",
    "x"
   ]
  },
  {
   "cell_type": "code",
   "execution_count": 222,
   "id": "6db0cb42",
   "metadata": {},
   "outputs": [
    {
     "data": {
      "text/plain": [
       "(1, 3)"
      ]
     },
     "execution_count": 222,
     "metadata": {},
     "output_type": "execute_result"
    }
   ],
   "source": [
    "x.shape # to show that this is an array  contain 3 elements"
   ]
  },
  {
   "cell_type": "code",
   "execution_count": 223,
   "id": "7946894a",
   "metadata": {},
   "outputs": [
    {
     "data": {
      "text/plain": [
       "(1, 3)"
      ]
     },
     "execution_count": 223,
     "metadata": {},
     "output_type": "execute_result"
    }
   ],
   "source": [
    "x.reshape(1,3).shape"
   ]
  },
  {
   "cell_type": "code",
   "execution_count": 224,
   "id": "0eff0bcc",
   "metadata": {},
   "outputs": [
    {
     "data": {
      "text/plain": [
       "array([[1],\n",
       "       [2],\n",
       "       [3]])"
      ]
     },
     "execution_count": 224,
     "metadata": {},
     "output_type": "execute_result"
    }
   ],
   "source": [
    "x.reshape(3,1)"
   ]
  },
  {
   "cell_type": "code",
   "execution_count": 225,
   "id": "8954ae11",
   "metadata": {},
   "outputs": [],
   "source": [
    "# another way:to change array from 1d to row vector or col vector"
   ]
  },
  {
   "cell_type": "code",
   "execution_count": 226,
   "id": "309c62cf",
   "metadata": {},
   "outputs": [
    {
     "data": {
      "text/plain": [
       "array([[1, 2, 3]])"
      ]
     },
     "execution_count": 226,
     "metadata": {},
     "output_type": "execute_result"
    }
   ],
   "source": [
    "x"
   ]
  },
  {
   "cell_type": "code",
   "execution_count": 227,
   "id": "d5e405d0",
   "metadata": {},
   "outputs": [
    {
     "data": {
      "text/plain": [
       "2"
      ]
     },
     "execution_count": 227,
     "metadata": {},
     "output_type": "execute_result"
    }
   ],
   "source": [
    "x.ndim # to show dimension of array "
   ]
  },
  {
   "cell_type": "code",
   "execution_count": 228,
   "id": "9081e9ae",
   "metadata": {},
   "outputs": [
    {
     "data": {
      "text/plain": [
       "(1, 3)"
      ]
     },
     "execution_count": 228,
     "metadata": {},
     "output_type": "execute_result"
    }
   ],
   "source": [
    "x.shape"
   ]
  },
  {
   "cell_type": "code",
   "execution_count": 229,
   "id": "30ee6655",
   "metadata": {},
   "outputs": [
    {
     "data": {
      "text/plain": [
       "(1, 1, 3)"
      ]
     },
     "execution_count": 229,
     "metadata": {},
     "output_type": "execute_result"
    }
   ],
   "source": [
    "z=x[:,np.newaxis].shape\n",
    "#adding new axis to change from array to col vector\n",
    "z"
   ]
  },
  {
   "cell_type": "code",
   "execution_count": 230,
   "id": "762ffdca",
   "metadata": {},
   "outputs": [
    {
     "data": {
      "text/plain": [
       "array([[[1, 2, 3]]])"
      ]
     },
     "execution_count": 230,
     "metadata": {},
     "output_type": "execute_result"
    }
   ],
   "source": [
    "x[:,np.newaxis]"
   ]
  },
  {
   "cell_type": "code",
   "execution_count": 231,
   "id": "0ebdff31",
   "metadata": {},
   "outputs": [
    {
     "data": {
      "text/plain": [
       "(1, 1, 3)"
      ]
     },
     "execution_count": 231,
     "metadata": {},
     "output_type": "execute_result"
    }
   ],
   "source": [
    "x[np.newaxis,:].shape #adding new axis to change from array to row vector"
   ]
  },
  {
   "cell_type": "code",
   "execution_count": 232,
   "id": "3758f0cf",
   "metadata": {},
   "outputs": [
    {
     "data": {
      "text/plain": [
       "array([[[1, 2, 3]]])"
      ]
     },
     "execution_count": 232,
     "metadata": {},
     "output_type": "execute_result"
    }
   ],
   "source": [
    "x[np.newaxis,:]"
   ]
  },
  {
   "cell_type": "code",
   "execution_count": 233,
   "id": "d197983f",
   "metadata": {},
   "outputs": [
    {
     "data": {
      "text/plain": [
       "array([[1, 2, 3],\n",
       "       [4, 5, 6],\n",
       "       [7, 8, 9]])"
      ]
     },
     "execution_count": 233,
     "metadata": {},
     "output_type": "execute_result"
    }
   ],
   "source": [
    "grid"
   ]
  },
  {
   "cell_type": "code",
   "execution_count": 234,
   "id": "b8f6ba47",
   "metadata": {},
   "outputs": [
    {
     "data": {
      "text/plain": [
       "array([[1, 2, 3],\n",
       "       [4, 5, 6],\n",
       "       [7, 8, 9]])"
      ]
     },
     "execution_count": 234,
     "metadata": {},
     "output_type": "execute_result"
    }
   ],
   "source": [
    "grid.reshape((3,-1)) #-1 don't give e error as the interpeter replace -1 with the correct num"
   ]
  },
  {
   "cell_type": "markdown",
   "id": "f2526d5b",
   "metadata": {},
   "source": [
    "# Array concatenation"
   ]
  },
  {
   "cell_type": "code",
   "execution_count": 235,
   "id": "33e084a6",
   "metadata": {},
   "outputs": [
    {
     "data": {
      "text/plain": [
       "array([1, 2, 3, 3, 4, 5])"
      ]
     },
     "execution_count": 235,
     "metadata": {},
     "output_type": "execute_result"
    }
   ],
   "source": [
    "x=np.array([1,2,3])\n",
    "y=np.array([3,4,5])\n",
    "np.concatenate([x,y])"
   ]
  },
  {
   "cell_type": "code",
   "execution_count": 236,
   "id": "efbfad10",
   "metadata": {},
   "outputs": [
    {
     "data": {
      "text/plain": [
       "array([1, 2, 3, 3, 4, 5, 6, 7, 8])"
      ]
     },
     "execution_count": 236,
     "metadata": {},
     "output_type": "execute_result"
    }
   ],
   "source": [
    "z=np.array([6,7,8])\n",
    "np.concatenate([x,y,z])"
   ]
  },
  {
   "cell_type": "code",
   "execution_count": 237,
   "id": "e77cb18f",
   "metadata": {},
   "outputs": [
    {
     "name": "stdout",
     "output_type": "stream",
     "text": [
      "[[1 1 1]\n",
      " [1 1 1]]\n",
      "[[9 9 9]\n",
      " [9 9 9]]\n"
     ]
    }
   ],
   "source": [
    "#for 2d array\n",
    "x=np.full((2,3),1)\n",
    "y=np.full((2,3),9)\n",
    "print(x)\n",
    "print(y)"
   ]
  },
  {
   "cell_type": "code",
   "execution_count": 238,
   "id": "34251560",
   "metadata": {},
   "outputs": [
    {
     "data": {
      "text/plain": [
       "array([[1, 1, 1],\n",
       "       [1, 1, 1],\n",
       "       [9, 9, 9],\n",
       "       [9, 9, 9]])"
      ]
     },
     "execution_count": 238,
     "metadata": {},
     "output_type": "execute_result"
    }
   ],
   "source": [
    "np.concatenate([x,y],axis=0) #concatenate along x axis (2,3)+(2,3)=(4,3)"
   ]
  },
  {
   "cell_type": "code",
   "execution_count": 239,
   "id": "deedd344",
   "metadata": {},
   "outputs": [
    {
     "data": {
      "text/plain": [
       "array([[1, 1, 1, 9, 9, 9],\n",
       "       [1, 1, 1, 9, 9, 9]])"
      ]
     },
     "execution_count": 239,
     "metadata": {},
     "output_type": "execute_result"
    }
   ],
   "source": [
    " #concatenate along x axis\n",
    "np.concatenate([x,y],axis=1) #concatenate along y axis(2,3)+(2,3)=(2,6)"
   ]
  },
  {
   "cell_type": "code",
   "execution_count": 240,
   "id": "d327fe4b",
   "metadata": {},
   "outputs": [
    {
     "name": "stdout",
     "output_type": "stream",
     "text": [
      "(3,)\n"
     ]
    },
    {
     "data": {
      "text/plain": [
       "(2, 3)"
      ]
     },
     "execution_count": 240,
     "metadata": {},
     "output_type": "execute_result"
    }
   ],
   "source": [
    "x=np.array([1,2,3])\n",
    "y=np.array([[4,5,6],\n",
    "       [7,8,9]])\n",
    "print(x.shape)\n",
    "y.shape\n",
    "#np.concatenate([x,y]) #we can't concatenate between them as x.shape(3,)(1d) and y.shape=(2,3)"
   ]
  },
  {
   "cell_type": "code",
   "execution_count": 241,
   "id": "9a212da8",
   "metadata": {},
   "outputs": [
    {
     "data": {
      "text/plain": [
       "array([[1, 2, 3]])"
      ]
     },
     "execution_count": 241,
     "metadata": {},
     "output_type": "execute_result"
    }
   ],
   "source": [
    "x=x.reshape((1,3))\n",
    "x"
   ]
  },
  {
   "cell_type": "code",
   "execution_count": 242,
   "id": "137d6352",
   "metadata": {},
   "outputs": [
    {
     "data": {
      "text/plain": [
       "array([[1, 2, 3],\n",
       "       [4, 5, 6],\n",
       "       [7, 8, 9]])"
      ]
     },
     "execution_count": 242,
     "metadata": {},
     "output_type": "execute_result"
    }
   ],
   "source": [
    "np.concatenate([x,y],axis=0)"
   ]
  },
  {
   "cell_type": "code",
   "execution_count": 243,
   "id": "878f4fec",
   "metadata": {},
   "outputs": [
    {
     "data": {
      "text/plain": [
       "array([[1, 2, 3],\n",
       "       [4, 5, 6],\n",
       "       [7, 8, 9]])"
      ]
     },
     "execution_count": 243,
     "metadata": {},
     "output_type": "execute_result"
    }
   ],
   "source": [
    "#another way without reshaping\n",
    "x=np.array([1,2,3])\n",
    "y=np.array([[4,5,6],\n",
    "       [7,8,9]])\n",
    "np.vstack([x,y])#vertically stack the array"
   ]
  },
  {
   "cell_type": "code",
   "execution_count": 244,
   "id": "ebd1307c",
   "metadata": {},
   "outputs": [
    {
     "data": {
      "text/plain": [
       "array([[11,  4,  5,  6],\n",
       "       [22,  7,  8,  9]])"
      ]
     },
     "execution_count": 244,
     "metadata": {},
     "output_type": "execute_result"
    }
   ],
   "source": [
    "z=np.array([[11],\n",
    "            [22]])\n",
    "np.hstack([z,y]) #horizontally stack the array"
   ]
  },
  {
   "cell_type": "markdown",
   "id": "a6b00694",
   "metadata": {},
   "source": [
    "# splitting of array"
   ]
  },
  {
   "cell_type": "code",
   "execution_count": 245,
   "id": "b2d9f908",
   "metadata": {},
   "outputs": [
    {
     "name": "stdout",
     "output_type": "stream",
     "text": [
      "[1 2 3] [66  7] [89 90]\n"
     ]
    }
   ],
   "source": [
    "x=[1,2,3,66,7,89,90]\n",
    "x1,x2,x3=np.split(x,[3,5]) # means that x2 will start from index 3 and x3 will strart from index 5\n",
    "print(x1,x2,x3)"
   ]
  },
  {
   "cell_type": "code",
   "execution_count": 246,
   "id": "e654088d",
   "metadata": {},
   "outputs": [
    {
     "data": {
      "text/plain": [
       "array([[ 0,  1,  2,  3],\n",
       "       [ 4,  5,  6,  7],\n",
       "       [ 8,  9, 10, 11],\n",
       "       [12, 13, 14, 15]])"
      ]
     },
     "execution_count": 246,
     "metadata": {},
     "output_type": "execute_result"
    }
   ],
   "source": [
    "# splitting 2d array\n",
    "grid=np.arange(16).reshape((4,4))\n",
    "grid"
   ]
  },
  {
   "cell_type": "code",
   "execution_count": 247,
   "id": "8bcf4e31",
   "metadata": {},
   "outputs": [
    {
     "name": "stdout",
     "output_type": "stream",
     "text": [
      "[[0 1 2 3]\n",
      " [4 5 6 7]]\n",
      "\n",
      "[[ 8  9 10 11]\n",
      " [12 13 14 15]]\n"
     ]
    }
   ],
   "source": [
    "x,y=np.vsplit(grid,[2])\n",
    "print(x) #splitt data from index 0 and 1 vertically\n",
    "print()\n",
    "print(y) #splitt data from index 2 to the end"
   ]
  },
  {
   "cell_type": "code",
   "execution_count": 248,
   "id": "c792af07",
   "metadata": {},
   "outputs": [
    {
     "name": "stdout",
     "output_type": "stream",
     "text": [
      "[[0 1 2 3]]\n",
      "\n",
      "[[ 4  5  6  7]\n",
      " [ 8  9 10 11]]\n",
      "\n",
      "[[12 13 14 15]]\n"
     ]
    }
   ],
   "source": [
    "x,y,z=np.vsplit(grid,[1,3])\n",
    "print(x) #splitt data from index 0 and 1 vertically\n",
    "print()\n",
    "print(y) #splitt data from index 2 to the end\n",
    "print()\n",
    "print(z)"
   ]
  },
  {
   "cell_type": "code",
   "execution_count": 249,
   "id": "4c9b4cdf",
   "metadata": {},
   "outputs": [
    {
     "name": "stdout",
     "output_type": "stream",
     "text": [
      "[[ 0  1]\n",
      " [ 4  5]\n",
      " [ 8  9]\n",
      " [12 13]]\n",
      "\n",
      "[[ 2  3]\n",
      " [ 6  7]\n",
      " [10 11]\n",
      " [14 15]]\n"
     ]
    }
   ],
   "source": [
    "x,y=np.hsplit(grid,[2])\n",
    "print(x) #splitt data from index 0 and 1 vertically\n",
    "print()\n",
    "print(y) #splitt data from index 2 to the end"
   ]
  },
  {
   "cell_type": "markdown",
   "id": "de659811",
   "metadata": {},
   "source": [
    "# NumPy's UFuncs"
   ]
  },
  {
   "cell_type": "markdown",
   "id": "d7f96ea6",
   "metadata": {},
   "source": [
    "numpy provides an easy and flexible interface to optimized computation with arrays of data.\n",
    "Vectorization is the key for numpy arrays to be fast\n",
    "Vectorization is implemented through universal functions (ufunc)\n"
   ]
  },
  {
   "cell_type": "code",
   "execution_count": 250,
   "id": "f4feebd5",
   "metadata": {},
   "outputs": [
    {
     "name": "stdout",
     "output_type": "stream",
     "text": [
      "x = [0 1 2 3]\n",
      "x + 5= [5 6 7 8]\n",
      "x - 5= [-5 -4 -3 -2]\n",
      "x * 2= [ 0  5 10 15]\n",
      "x/2 = [0.  0.5 1.  1.5]\n",
      "x//2 = [0 0 1 1]\n",
      "-x = [ 0 -1 -2 -3]\n",
      "x**2 = [0 1 4 9]\n",
      "x%2 = [0 1 0 1]\n"
     ]
    }
   ],
   "source": [
    "import numpy as np\n",
    "x=np.arange(4)\n",
    "print(\"x =\" ,x) \n",
    "print(\"x + 5=\",x+5)#np.add(x,5)\n",
    "print(\"x - 5=\",x-5)#np.subtract(x,5)\n",
    "print(\"x * 2=\",x*5)#np.multiply(x,5)\n",
    "print(\"x/2 =\" ,x/2)#np.divide(x,2)\n",
    "print(\"x//2 =\" ,x//2)#floor division\n",
    "print(\"-x =\" ,-x)##np.negative(x)\n",
    "print(\"x**2 =\" ,x**2)#np.power(x,2)\n",
    "print(\"x%2 =\" ,x%2)#np.mod(x,2)"
   ]
  },
  {
   "cell_type": "code",
   "execution_count": 251,
   "id": "ac443e55",
   "metadata": {},
   "outputs": [
    {
     "data": {
      "text/plain": [
       "array([-1.  , -2.25, -4.  , -6.25])"
      ]
     },
     "execution_count": 251,
     "metadata": {},
     "output_type": "execute_result"
    }
   ],
   "source": [
    "#() then exponantional then multiply and division the +,-\n",
    "-(x/2+1)**2"
   ]
  },
  {
   "cell_type": "code",
   "execution_count": 252,
   "id": "b6bb6f36",
   "metadata": {},
   "outputs": [
    {
     "name": "stdout",
     "output_type": "stream",
     "text": [
      "[ 0 -1 -2 -3]\n",
      "[ 0 -1 -2 -3]\n"
     ]
    }
   ],
   "source": [
    "print(-x)\n",
    "print(np.negative(x))"
   ]
  },
  {
   "cell_type": "code",
   "execution_count": 253,
   "id": "5f1d2f75",
   "metadata": {},
   "outputs": [
    {
     "name": "stdout",
     "output_type": "stream",
     "text": [
      "[1 2 3]\n"
     ]
    }
   ],
   "source": [
    "x=np.array([-1,-2,-3])\n",
    "print(abs(x))"
   ]
  },
  {
   "cell_type": "markdown",
   "id": "345465db",
   "metadata": {},
   "source": [
    "Trigometric functions"
   ]
  },
  {
   "cell_type": "code",
   "execution_count": 254,
   "id": "db64c4e6",
   "metadata": {},
   "outputs": [
    {
     "data": {
      "text/plain": [
       "array([0.        , 1.57079633, 3.14159265])"
      ]
     },
     "execution_count": 254,
     "metadata": {},
     "output_type": "execute_result"
    }
   ],
   "source": [
    "theta=np.linspace(0,np.pi,3)\n",
    "theta"
   ]
  },
  {
   "cell_type": "code",
   "execution_count": 255,
   "id": "89e26594",
   "metadata": {},
   "outputs": [
    {
     "name": "stdout",
     "output_type": "stream",
     "text": [
      "theta = [0.         1.57079633 3.14159265]\n",
      "sin(theta) = [0.0000000e+00 1.0000000e+00 1.2246468e-16]\n",
      "cos(theta) = [ 1.000000e+00  6.123234e-17 -1.000000e+00]\n",
      "tan(theta) = [ 0.00000000e+00  1.63312394e+16 -1.22464680e-16]\n"
     ]
    }
   ],
   "source": [
    "print(\"theta =\",theta)\n",
    "print(\"sin(theta) =\",np.sin(theta))\n",
    "print(\"cos(theta) =\",np.cos(theta))\n",
    "print(\"tan(theta) =\",np.tan(theta))"
   ]
  },
  {
   "cell_type": "code",
   "execution_count": 256,
   "id": "4296b031",
   "metadata": {},
   "outputs": [
    {
     "name": "stdout",
     "output_type": "stream",
     "text": [
      "[-1.57079633  0.          1.57079633]\n",
      "[3.14159265 1.57079633 0.        ]\n",
      "[-0.78539816  0.          0.78539816]\n"
     ]
    }
   ],
   "source": [
    "#نجيب قيم الزوايا بالقياس الداىرى\n",
    "x=[-1,0,1]\n",
    "print(np.arcsin(x))\n",
    "print(np.arccos(x))\n",
    "print(np.arctan(x))\n"
   ]
  },
  {
   "cell_type": "code",
   "execution_count": 257,
   "id": "5593132f",
   "metadata": {},
   "outputs": [
    {
     "name": "stdout",
     "output_type": "stream",
     "text": [
      "[-57.29577951   0.          57.29577951]\n"
     ]
    }
   ],
   "source": [
    "print(np.degrees(x))"
   ]
  },
  {
   "cell_type": "markdown",
   "id": "0e902faf",
   "metadata": {},
   "source": [
    "Exponents and logarithms"
   ]
  },
  {
   "cell_type": "code",
   "execution_count": 258,
   "id": "2d59a714",
   "metadata": {},
   "outputs": [
    {
     "name": "stdout",
     "output_type": "stream",
     "text": [
      "e^x = [ 2.71828183  7.3890561  20.08553692]\n",
      "2^x = [2. 4. 8.]\n",
      "3^x = [ 3  9 27]\n",
      "ln x= [0.         0.69314718 1.09861229]\n",
      "log2(x)=  [0.        1.        1.5849625]\n",
      "log10x)=  [0.         0.30103    0.47712125]\n"
     ]
    }
   ],
   "source": [
    "x=[1,2,3]\n",
    "print(\"e^x =\",np.exp(x))\n",
    "print(\"2^x =\",np.exp2(x))\n",
    "print(\"3^x =\",np.power(3,x))#3**np.array(x)\n",
    "print(\"ln x=\",np.log(x))\n",
    "print(\"log2(x)= \",np.log2(x))\n",
    "print(\"log10x)= \",np.log10(x))"
   ]
  },
  {
   "cell_type": "markdown",
   "id": "27335234",
   "metadata": {},
   "source": [
    "Advanced topics"
   ]
  },
  {
   "cell_type": "code",
   "execution_count": 259,
   "id": "c5930bb1",
   "metadata": {},
   "outputs": [
    {
     "data": {
      "text/plain": [
       "array([3, 4, 5])"
      ]
     },
     "execution_count": 259,
     "metadata": {},
     "output_type": "execute_result"
    }
   ],
   "source": [
    "y=np.add(x,2)\n",
    "y"
   ]
  },
  {
   "cell_type": "code",
   "execution_count": 260,
   "id": "ce3a1195",
   "metadata": {},
   "outputs": [
    {
     "name": "stdout",
     "output_type": "stream",
     "text": [
      "[0 1 2 3 4]\n",
      "[ 0. 10. 20. 30. 40.]\n"
     ]
    }
   ],
   "source": [
    "#another way\n",
    "x=np.arange(5)\n",
    "y=np.empty(5)\n",
    "np.multiply(x,10,out=y)\n",
    "print(x)\n",
    "print(y)"
   ]
  },
  {
   "cell_type": "markdown",
   "id": "3920378c",
   "metadata": {},
   "source": [
    "# Aggregations"
   ]
  },
  {
   "cell_type": "markdown",
   "id": "244af6bc",
   "metadata": {},
   "source": [
    "summing the values in an array"
   ]
  },
  {
   "cell_type": "code",
   "execution_count": 261,
   "id": "6cbd9a34",
   "metadata": {},
   "outputs": [
    {
     "data": {
      "text/plain": [
       "5.173072472409701"
      ]
     },
     "execution_count": 261,
     "metadata": {},
     "output_type": "execute_result"
    }
   ],
   "source": [
    "l=np.random.random(10)\n",
    "np.sum(l)"
   ]
  },
  {
   "cell_type": "markdown",
   "id": "bd9b983d",
   "metadata": {},
   "source": [
    "min and max"
   ]
  },
  {
   "cell_type": "code",
   "execution_count": 262,
   "id": "3a4acd6f",
   "metadata": {},
   "outputs": [
    {
     "data": {
      "text/plain": [
       "(1, 5)"
      ]
     },
     "execution_count": 262,
     "metadata": {},
     "output_type": "execute_result"
    }
   ],
   "source": [
    "l=[1,2,3,4,5]\n",
    "np.min(l),np.max(l)"
   ]
  },
  {
   "cell_type": "markdown",
   "id": "6f40f950",
   "metadata": {},
   "source": [
    "Multi dimensional aggreggates"
   ]
  },
  {
   "cell_type": "code",
   "execution_count": 263,
   "id": "72208940",
   "metadata": {},
   "outputs": [
    {
     "data": {
      "text/plain": [
       "array([[0, 1, 2],\n",
       "       [3, 4, 5]])"
      ]
     },
     "execution_count": 263,
     "metadata": {},
     "output_type": "execute_result"
    }
   ],
   "source": [
    "x=np.arange(0,6).reshape((2,3))\n",
    "x"
   ]
  },
  {
   "cell_type": "code",
   "execution_count": 264,
   "id": "4d301124",
   "metadata": {},
   "outputs": [
    {
     "data": {
      "text/plain": [
       "15"
      ]
     },
     "execution_count": 264,
     "metadata": {},
     "output_type": "execute_result"
    }
   ],
   "source": [
    "x.sum()#equivalent to sum(x) not np.sum(x) calculate the sum of row an dcol"
   ]
  },
  {
   "cell_type": "code",
   "execution_count": 265,
   "id": "7bfece8a",
   "metadata": {},
   "outputs": [
    {
     "data": {
      "text/plain": [
       "array([3, 5, 7])"
      ]
     },
     "execution_count": 265,
     "metadata": {},
     "output_type": "execute_result"
    }
   ],
   "source": [
    "x.sum(axis=0)#collapse the row and calculate the sum"
   ]
  },
  {
   "cell_type": "code",
   "execution_count": 266,
   "id": "a1220463",
   "metadata": {},
   "outputs": [
    {
     "data": {
      "text/plain": [
       "array([ 3, 12])"
      ]
     },
     "execution_count": 266,
     "metadata": {},
     "output_type": "execute_result"
    }
   ],
   "source": [
    "x.sum(axis=1)#collapse the col and calculate the sum"
   ]
  },
  {
   "cell_type": "raw",
   "id": "b629f1c4",
   "metadata": {},
   "source": [
    "# fun available in numpy\n",
    "np.sum()\n",
    "np.prod()#compute product of element in array\n",
    "np.mean()\n",
    "np.std()\n",
    "np.var()#compute variance\n",
    "np.min()\n",
    "np.max()\n",
    "np.sort()\n",
    "np.percentile()\n",
    "np.argmin()#compute the index of the min\n",
    "np.argmax()#compute the index of the max\n",
    "np.median()\n",
    "np.any()#whether nay element ae true \n",
    "np.all()#whether all element ae true  "
   ]
  },
  {
   "cell_type": "code",
   "execution_count": 267,
   "id": "cf9d2222",
   "metadata": {},
   "outputs": [
    {
     "data": {
      "text/plain": [
       "11.8"
      ]
     },
     "execution_count": 267,
     "metadata": {},
     "output_type": "execute_result"
    }
   ],
   "source": [
    "x=[11,12,15,20,30]\n",
    "np.percentile(x,20)#نسبه القيم اللى موجوده ف الاري تقل من 20  "
   ]
  },
  {
   "cell_type": "markdown",
   "id": "5aed9325",
   "metadata": {},
   "source": [
    "# Broadcasting"
   ]
  },
  {
   "cell_type": "markdown",
   "id": "422521b3",
   "metadata": {},
   "source": [
    "is simply a set of rules for applying addition , subtraction and multiplication of array of different sizes"
   ]
  },
  {
   "cell_type": "code",
   "execution_count": 268,
   "id": "9f756813",
   "metadata": {},
   "outputs": [
    {
     "name": "stdout",
     "output_type": "stream",
     "text": [
      "[1 2 3]\n",
      "[4 5 3]\n",
      "[5 7 6]\n"
     ]
    }
   ],
   "source": [
    "import numpy as np\n",
    "a=np.array([1,2,3])\n",
    "b=np.array([4,5,3])\n",
    "print(a)\n",
    "print(b)\n",
    "print(a+b)"
   ]
  },
  {
   "cell_type": "code",
   "execution_count": 269,
   "id": "e40bb21f",
   "metadata": {},
   "outputs": [
    {
     "data": {
      "text/plain": [
       "array([6, 7, 8])"
      ]
     },
     "execution_count": 269,
     "metadata": {},
     "output_type": "execute_result"
    }
   ],
   "source": [
    "a+5"
   ]
  },
  {
   "cell_type": "code",
   "execution_count": 270,
   "id": "6d5d3bfb",
   "metadata": {},
   "outputs": [
    {
     "data": {
      "text/plain": [
       "(array([[1., 1., 1.],\n",
       "        [1., 1., 1.],\n",
       "        [1., 1., 1.]]),\n",
       " array([1, 2, 3]))"
      ]
     },
     "execution_count": 270,
     "metadata": {},
     "output_type": "execute_result"
    }
   ],
   "source": [
    "m=np.ones((3,3))\n",
    "m,a"
   ]
  },
  {
   "cell_type": "code",
   "execution_count": 271,
   "id": "cc806e92",
   "metadata": {},
   "outputs": [
    {
     "data": {
      "text/plain": [
       "array([[2., 3., 4.],\n",
       "       [2., 3., 4.],\n",
       "       [2., 3., 4.]])"
      ]
     },
     "execution_count": 271,
     "metadata": {},
     "output_type": "execute_result"
    }
   ],
   "source": [
    "m+a "
   ]
  },
  {
   "cell_type": "code",
   "execution_count": 272,
   "id": "109803a9",
   "metadata": {},
   "outputs": [
    {
     "name": "stdout",
     "output_type": "stream",
     "text": [
      "[0 1 2]\n",
      "[[0]\n",
      " [1]\n",
      " [2]]\n"
     ]
    }
   ],
   "source": [
    "a=np.arange(3)#(3,)=>shape\n",
    "b=np.arange(3)[:,np.newaxis] #(3,1)\n",
    "print(a)\n",
    "print(b)"
   ]
  },
  {
   "cell_type": "code",
   "execution_count": 273,
   "id": "bb586a70",
   "metadata": {},
   "outputs": [
    {
     "data": {
      "text/plain": [
       "array([[0, 1, 2],\n",
       "       [1, 2, 3],\n",
       "       [2, 3, 4]])"
      ]
     },
     "execution_count": 273,
     "metadata": {},
     "output_type": "execute_result"
    }
   ],
   "source": [
    "a+b"
   ]
  },
  {
   "cell_type": "markdown",
   "id": "61bd9d61",
   "metadata": {},
   "source": [
    "# Rules of Broadcasting\n",
    "Broadcasting in NumPy follows a strict set of rules to determine the interaction between the two arrays:\n",
    "\n",
    "Rule 1: If the two arrays differ in their number of dimensions, the shape of the one with fewer dimensions is padded with ones on its leading (left) side.\n",
    "\n",
    "Rule 2: If the shape of the two arrays does not match in any dimension, the array with shape equal to 1 in that dimension is stretched to match the other shape.\n",
    "\n",
    "Rule 3: If in any dimension the sizes disagree and neither is equal to 1, an error is raised."
   ]
  },
  {
   "cell_type": "code",
   "execution_count": 274,
   "id": "54a458da",
   "metadata": {},
   "outputs": [
    {
     "name": "stdout",
     "output_type": "stream",
     "text": [
      "(2, 3)\n",
      "(3,)\n"
     ]
    }
   ],
   "source": [
    "x=np.ones((2,3))\n",
    "y=np.arange(3)\n",
    "print(x.shape)\n",
    "print(y.shape)"
   ]
  },
  {
   "cell_type": "code",
   "execution_count": 275,
   "id": "15cc5176",
   "metadata": {},
   "outputs": [
    {
     "data": {
      "text/plain": [
       "array([[1., 2., 3.],\n",
       "       [1., 2., 3.]])"
      ]
     },
     "execution_count": 275,
     "metadata": {},
     "output_type": "execute_result"
    }
   ],
   "source": [
    "x+y"
   ]
  },
  {
   "cell_type": "markdown",
   "id": "fc142e80",
   "metadata": {},
   "source": [
    "# comparison "
   ]
  },
  {
   "cell_type": "code",
   "execution_count": 276,
   "id": "116b83ad",
   "metadata": {},
   "outputs": [],
   "source": [
    "import numpy as np\n",
    "import pandas as pd\n",
    "import matplotlib.pyplot as plt\n",
    "import seaborn; seaborn.set()"
   ]
  },
  {
   "cell_type": "code",
   "execution_count": 277,
   "id": "d763b2e8",
   "metadata": {},
   "outputs": [],
   "source": [
    "df = pd.read_csv('seattleWeather_1948-2017.csv', parse_dates=[0])[['DATE', 'PRCP']]\n",
    "rainfall = df[df['DATE'].dt.year == 2016]['PRCP'].values"
   ]
  },
  {
   "cell_type": "code",
   "execution_count": 278,
   "id": "cfd110cb",
   "metadata": {},
   "outputs": [
    {
     "data": {
      "image/png": "[encoded data removed]",
      "text/plain": [
       "<Figure size 432x288 with 1 Axes>"
      ]
     },
     "metadata": {},
     "output_type": "display_data"
    }
   ],
   "source": [
    "plt.hist(rainfall, bins=30)\n",
    "plt.title('Rainfall')\n",
    "plt.xlabel('PRCP')\n",
    "plt.ylabel('Frequency');"
   ]
  },
  {
   "cell_type": "code",
   "execution_count": 279,
   "id": "fe28a192",
   "metadata": {},
   "outputs": [
    {
     "data": {
      "text/plain": [
       "(366,)"
      ]
     },
     "execution_count": 279,
     "metadata": {},
     "output_type": "execute_result"
    }
   ],
   "source": [
    "rainfall.shape"
   ]
  },
  {
   "cell_type": "raw",
   "id": "75cdaa8d",
   "metadata": {},
   "source": [
    "Questions:\n",
    "    1-How many rainy days were there in thr year\n",
    "    2- What is the average precipitation on those rainy days?\n",
    "    3-How many days were there with more than half an inch of rain?"
   ]
  },
  {
   "cell_type": "raw",
   "id": "4d9743b4",
   "metadata": {},
   "source": [
    "let's simplify it"
   ]
  },
  {
   "cell_type": "code",
   "execution_count": 280,
   "id": "97dea100",
   "metadata": {},
   "outputs": [],
   "source": [
    "x=np.array([1,2,3,4])"
   ]
  },
  {
   "cell_type": "code",
   "execution_count": 281,
   "id": "6f580ff8",
   "metadata": {},
   "outputs": [
    {
     "data": {
      "text/plain": [
       "array([ True,  True, False, False])"
      ]
     },
     "execution_count": 281,
     "metadata": {},
     "output_type": "execute_result"
    }
   ],
   "source": [
    "x<3"
   ]
  },
  {
   "cell_type": "code",
   "execution_count": 282,
   "id": "c7ea5e5f",
   "metadata": {},
   "outputs": [
    {
     "data": {
      "text/plain": [
       "array([False, False, False,  True])"
      ]
     },
     "execution_count": 282,
     "metadata": {},
     "output_type": "execute_result"
    }
   ],
   "source": [
    "x>3"
   ]
  },
  {
   "cell_type": "code",
   "execution_count": 283,
   "id": "fcbfd3ec",
   "metadata": {},
   "outputs": [
    {
     "data": {
      "text/plain": [
       "array([ True,  True,  True, False])"
      ]
     },
     "execution_count": 283,
     "metadata": {},
     "output_type": "execute_result"
    }
   ],
   "source": [
    "x<=3"
   ]
  },
  {
   "cell_type": "code",
   "execution_count": 284,
   "id": "26fadac5",
   "metadata": {},
   "outputs": [
    {
     "data": {
      "text/plain": [
       "array([False, False,  True,  True])"
      ]
     },
     "execution_count": 284,
     "metadata": {},
     "output_type": "execute_result"
    }
   ],
   "source": [
    "x>=3"
   ]
  },
  {
   "cell_type": "code",
   "execution_count": 285,
   "id": "1bf206c6",
   "metadata": {},
   "outputs": [
    {
     "data": {
      "text/plain": [
       "array([ True,  True, False,  True])"
      ]
     },
     "execution_count": 285,
     "metadata": {},
     "output_type": "execute_result"
    }
   ],
   "source": [
    "x!=3"
   ]
  },
  {
   "cell_type": "code",
   "execution_count": 286,
   "id": "09be8f09",
   "metadata": {},
   "outputs": [
    {
     "data": {
      "text/plain": [
       "array([False, False,  True, False])"
      ]
     },
     "execution_count": 286,
     "metadata": {},
     "output_type": "execute_result"
    }
   ],
   "source": [
    "x==3"
   ]
  },
  {
   "cell_type": "code",
   "execution_count": 287,
   "id": "3b918562",
   "metadata": {},
   "outputs": [
    {
     "data": {
      "text/plain": [
       "array([False,  True, False, False])"
      ]
     },
     "execution_count": 287,
     "metadata": {},
     "output_type": "execute_result"
    }
   ],
   "source": [
    "(2*x)==(x**2)"
   ]
  },
  {
   "cell_type": "code",
   "execution_count": 288,
   "id": "2f432749",
   "metadata": {},
   "outputs": [
    {
     "data": {
      "text/plain": [
       "array([[6, 3, 7, 4],\n",
       "       [6, 9, 2, 6],\n",
       "       [7, 4, 3, 7]])"
      ]
     },
     "execution_count": 288,
     "metadata": {},
     "output_type": "execute_result"
    }
   ],
   "source": [
    "np.random.seed(42)#بيثبت لارقام كل مرة\n",
    "x=np.random.randint(10,size=(3,4))\n",
    "x"
   ]
  },
  {
   "cell_type": "code",
   "execution_count": 289,
   "id": "54b7a5b4",
   "metadata": {},
   "outputs": [
    {
     "data": {
      "text/plain": [
       "array([[False,  True, False,  True],\n",
       "       [False, False,  True, False],\n",
       "       [False,  True,  True, False]])"
      ]
     },
     "execution_count": 289,
     "metadata": {},
     "output_type": "execute_result"
    }
   ],
   "source": [
    "x<6"
   ]
  },
  {
   "cell_type": "raw",
   "id": "a532adbe",
   "metadata": {},
   "source": [
    "np.count_nonzero(x)\n",
    "np.sum()\n",
    "np.all()\n",
    "np.any()"
   ]
  },
  {
   "cell_type": "code",
   "execution_count": 290,
   "id": "b8c96d0c",
   "metadata": {},
   "outputs": [
    {
     "data": {
      "text/plain": [
       "12"
      ]
     },
     "execution_count": 290,
     "metadata": {},
     "output_type": "execute_result"
    }
   ],
   "source": [
    "np.count_nonzero(x)#3+4+4"
   ]
  },
  {
   "cell_type": "code",
   "execution_count": 291,
   "id": "48ec2adc",
   "metadata": {},
   "outputs": [
    {
     "data": {
      "text/plain": [
       "5"
      ]
     },
     "execution_count": 291,
     "metadata": {},
     "output_type": "execute_result"
    }
   ],
   "source": [
    "np.count_nonzero(x<6)"
   ]
  },
  {
   "cell_type": "code",
   "execution_count": 292,
   "id": "62b44aee",
   "metadata": {},
   "outputs": [
    {
     "data": {
      "text/plain": [
       "5"
      ]
     },
     "execution_count": 292,
     "metadata": {},
     "output_type": "execute_result"
    }
   ],
   "source": [
    "np.sum(x<6)#equivaolent to count_nonzero"
   ]
  },
  {
   "cell_type": "code",
   "execution_count": 293,
   "id": "f5e19a6e",
   "metadata": {},
   "outputs": [
    {
     "data": {
      "text/plain": [
       "array([2, 1, 2])"
      ]
     },
     "execution_count": 293,
     "metadata": {},
     "output_type": "execute_result"
    }
   ],
   "source": [
    "np.sum(x<6,axis=1)"
   ]
  },
  {
   "cell_type": "markdown",
   "id": "bb00ec60",
   "metadata": {},
   "source": [
    "Questions:\n",
    "    1-How  days without rain were there in thr year"
   ]
  },
  {
   "cell_type": "code",
   "execution_count": 294,
   "id": "d6d31e9a",
   "metadata": {},
   "outputs": [
    {
     "data": {
      "text/plain": [
       "194"
      ]
     },
     "execution_count": 294,
     "metadata": {},
     "output_type": "execute_result"
    }
   ],
   "source": [
    "np.count_nonzero(rainfall==0)"
   ]
  },
  {
   "cell_type": "markdown",
   "id": "1dbdcaf1",
   "metadata": {},
   "source": [
    "2-Find the number of days with rain."
   ]
  },
  {
   "cell_type": "code",
   "execution_count": 295,
   "id": "dcccf3e9",
   "metadata": {},
   "outputs": [
    {
     "data": {
      "text/plain": [
       "172"
      ]
     },
     "execution_count": 295,
     "metadata": {},
     "output_type": "execute_result"
    }
   ],
   "source": [
    "np.count_nonzero(rainfall!=0)"
   ]
  },
  {
   "cell_type": "markdown",
   "id": "a2cf2bbc",
   "metadata": {},
   "source": [
    "Find the number days with more than 0.5 inches."
   ]
  },
  {
   "cell_type": "code",
   "execution_count": 296,
   "id": "ae43f8ab",
   "metadata": {},
   "outputs": [
    {
     "data": {
      "text/plain": [
       "27"
      ]
     },
     "execution_count": 296,
     "metadata": {},
     "output_type": "execute_result"
    }
   ],
   "source": [
    "np.count_nonzero(rainfall>=0.5)"
   ]
  },
  {
   "cell_type": "markdown",
   "id": "ad780a3f",
   "metadata": {},
   "source": [
    "Find the number of rainy days with < 0.1 inches."
   ]
  },
  {
   "cell_type": "code",
   "execution_count": 297,
   "id": "85e3694d",
   "metadata": {},
   "outputs": [
    {
     "data": {
      "text/plain": [
       "250"
      ]
     },
     "execution_count": 297,
     "metadata": {},
     "output_type": "execute_result"
    }
   ],
   "source": [
    "np.count_nonzero(rainfall<0.1)"
   ]
  },
  {
   "cell_type": "raw",
   "id": "0f11fcd5",
   "metadata": {},
   "source": [
    "&==>np.bitwise_and()\n",
    "|==>np.bitwise_or()\n",
    "^==>np.bitwise_xor()\n",
    "~==>np.bitwise_not()"
   ]
  },
  {
   "cell_type": "markdown",
   "id": "a94be344",
   "metadata": {},
   "source": [
    "summer start on the 172th day of the year and last for 90 days,extract summer days?"
   ]
  },
  {
   "cell_type": "code",
   "execution_count": 298,
   "id": "8bb6cb3f",
   "metadata": {
    "scrolled": true
   },
   "outputs": [
    {
     "data": {
      "text/plain": [
       "array([False, False, False, False, False, False, False, False, False,\n",
       "       False, False, False, False, False, False, False, False, False,\n",
       "       False, False, False, False, False, False, False, False, False,\n",
       "       False, False, False, False, False, False, False, False, False,\n",
       "       False, False, False, False, False, False, False, False, False,\n",
       "       False, False, False, False, False, False, False, False, False,\n",
       "       False, False, False, False, False, False, False, False, False,\n",
       "       False, False, False, False, False, False, False, False, False,\n",
       "       False, False, False, False, False, False, False, False, False,\n",
       "       False, False, False, False, False, False, False, False, False,\n",
       "       False, False, False, False, False, False, False, False, False,\n",
       "       False, False, False, False, False, False, False, False, False,\n",
       "       False, False, False, False, False, False, False, False, False,\n",
       "       False, False, False, False, False, False, False, False, False,\n",
       "       False, False, False, False, False, False, False, False, False,\n",
       "       False, False, False, False, False, False, False, False, False,\n",
       "       False, False, False, False, False, False, False, False, False,\n",
       "       False, False, False, False, False, False, False, False, False,\n",
       "       False, False, False, False, False, False, False, False, False,\n",
       "       False, False,  True,  True,  True,  True,  True,  True,  True,\n",
       "        True,  True,  True,  True,  True,  True,  True,  True,  True,\n",
       "        True,  True,  True,  True,  True,  True,  True,  True,  True,\n",
       "        True,  True,  True,  True,  True,  True,  True,  True,  True,\n",
       "        True,  True,  True,  True,  True,  True,  True,  True,  True,\n",
       "        True,  True,  True,  True,  True,  True,  True,  True,  True,\n",
       "        True,  True,  True,  True,  True,  True,  True,  True,  True,\n",
       "        True,  True,  True,  True,  True,  True,  True,  True,  True,\n",
       "        True,  True,  True,  True,  True,  True,  True,  True,  True,\n",
       "        True,  True,  True,  True,  True,  True,  True,  True,  True,\n",
       "        True, False, False, False, False, False, False, False, False,\n",
       "       False, False, False, False, False, False, False, False, False,\n",
       "       False, False, False, False, False, False, False, False, False,\n",
       "       False, False, False, False, False, False, False, False, False,\n",
       "       False, False, False, False, False, False, False, False, False,\n",
       "       False, False, False, False, False, False, False, False, False,\n",
       "       False, False, False, False, False, False, False, False, False,\n",
       "       False, False, False, False, False, False, False, False, False,\n",
       "       False, False, False, False, False, False, False, False, False,\n",
       "       False, False, False, False, False, False, False, False, False,\n",
       "       False, False, False, False, False, False, False, False, False,\n",
       "       False, False, False, False, False, False])"
      ]
     },
     "execution_count": 298,
     "metadata": {},
     "output_type": "execute_result"
    }
   ],
   "source": [
    "import numpy as np\n",
    "days=np.arange(366)\n",
    "summer=(days>172)&(days<(90+172))\n",
    "summer"
   ]
  },
  {
   "cell_type": "markdown",
   "id": "112b09f0",
   "metadata": {},
   "source": [
    "the mean preciptation of rainy day"
   ]
  },
  {
   "cell_type": "code",
   "execution_count": 299,
   "id": "8ba148f0",
   "metadata": {
    "scrolled": true
   },
   "outputs": [
    {
     "data": {
      "text/plain": [
       "0.2626744186046512"
      ]
     },
     "execution_count": 299,
     "metadata": {},
     "output_type": "execute_result"
    }
   ],
   "source": [
    "rainfall[rainfall>0].mean()"
   ]
  },
  {
   "cell_type": "code",
   "execution_count": 300,
   "id": "86f51bda",
   "metadata": {},
   "outputs": [
    {
     "data": {
      "text/plain": [
       "0.42"
      ]
     },
     "execution_count": 300,
     "metadata": {},
     "output_type": "execute_result"
    }
   ],
   "source": [
    "#Find the maximimum precipitation on summer days.\n",
    "\n",
    "rainfall[summer].max()"
   ]
  },
  {
   "cell_type": "code",
   "execution_count": 301,
   "id": "6b88dd1c",
   "metadata": {},
   "outputs": [
    {
     "data": {
      "text/plain": [
       "0.17"
      ]
     },
     "execution_count": 301,
     "metadata": {},
     "output_type": "execute_result"
    }
   ],
   "source": [
    "#Find the median precipitation on rainy and non-summer days.\n",
    "\n",
    "np.median(rainfall[(~summer) & (rainfall > 0)])"
   ]
  },
  {
   "cell_type": "markdown",
   "id": "27b1cbb7",
   "metadata": {},
   "source": [
    "Boolean Arrays as Masks"
   ]
  },
  {
   "cell_type": "code",
   "execution_count": 302,
   "id": "ef5046c9",
   "metadata": {},
   "outputs": [
    {
     "data": {
      "text/plain": [
       "array([[5, 0, 3, 3],\n",
       "       [7, 9, 3, 5],\n",
       "       [2, 4, 7, 6]])"
      ]
     },
     "execution_count": 302,
     "metadata": {},
     "output_type": "execute_result"
    }
   ],
   "source": [
    "x = np.array([[5, 0, 3, 3], [7, 9, 3, 5], [2, 4, 7, 6]])\n",
    "x"
   ]
  },
  {
   "cell_type": "code",
   "execution_count": 303,
   "id": "defe777a",
   "metadata": {},
   "outputs": [
    {
     "data": {
      "text/plain": [
       "array([[False,  True,  True,  True],\n",
       "       [False, False,  True, False],\n",
       "       [ True,  True, False, False]])"
      ]
     },
     "execution_count": 303,
     "metadata": {},
     "output_type": "execute_result"
    }
   ],
   "source": [
    "x < 5"
   ]
  },
  {
   "cell_type": "code",
   "execution_count": 304,
   "id": "479be098",
   "metadata": {},
   "outputs": [
    {
     "data": {
      "text/plain": [
       "array([0, 3, 3, 3, 2, 4])"
      ]
     },
     "execution_count": 304,
     "metadata": {},
     "output_type": "execute_result"
    }
   ],
   "source": [
    "x[x<5]"
   ]
  },
  {
   "cell_type": "raw",
   "id": "ff307cdc",
   "metadata": {},
   "source": [
    "Note: The mask should be of the same size of the original array"
   ]
  },
  {
   "cell_type": "code",
   "execution_count": 305,
   "id": "bdbe4b5b",
   "metadata": {},
   "outputs": [
    {
     "data": {
      "text/plain": [
       "array([1, 5])"
      ]
     },
     "execution_count": 305,
     "metadata": {},
     "output_type": "execute_result"
    }
   ],
   "source": [
    "y=np.array([1,2,3,5])\n",
    "y[[True,False,False,True]]"
   ]
  },
  {
   "cell_type": "code",
   "execution_count": null,
   "id": "2af5282e",
   "metadata": {},
   "outputs": [],
   "source": []
  }
 ],
 "metadata": {
  "kernelspec": {
   "display_name": "Python 3 (ipykernel)",
   "language": "python",
   "name": "python3"
  },
  "language_info": {
   "codemirror_mode": {
    "name": "ipython",
    "version": 3
   },
   "file_extension": ".py",
   "mimetype": "text/x-python",
   "name": "python",
   "nbconvert_exporter": "python",
   "pygments_lexer": "ipython3",
   "version": "3.9.7"
  }
 },
 "nbformat": 4,
 "nbformat_minor": 5
}
