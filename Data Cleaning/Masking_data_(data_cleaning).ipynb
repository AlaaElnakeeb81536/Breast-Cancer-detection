{
  "cells": [
    {
      "cell_type": "code",
      "execution_count": null,
      "id": "a645a4af",
      "metadata": {
        "id": "a645a4af"
      },
      "outputs": [],
      "source": [
        "import pandas as pd\n",
        "import re"
      ]
    },
    {
      "cell_type": "code",
      "execution_count": null,
      "id": "f9c23ea8",
      "metadata": {
        "id": "f9c23ea8",
        "outputId": "196b3160-1619-4b3b-c249-6936ddd93cf6"
      },
      "outputs": [
        {
          "data": {
            "text/html": [
              "<div>\n",
              "<style scoped>\n",
              "    .dataframe tbody tr th:only-of-type {\n",
              "        vertical-align: middle;\n",
              "    }\n",
              "\n",
              "    .dataframe tbody tr th {\n",
              "        vertical-align: top;\n",
              "    }\n",
              "\n",
              "    .dataframe thead th {\n",
              "        text-align: right;\n",
              "    }\n",
              "</style>\n",
              "<table border=\"1\" class=\"dataframe\">\n",
              "  <thead>\n",
              "    <tr style=\"text-align: right;\">\n",
              "      <th></th>\n",
              "      <th>name</th>\n",
              "      <th>email</th>\n",
              "    </tr>\n",
              "  </thead>\n",
              "  <tbody>\n",
              "    <tr>\n",
              "      <th>0</th>\n",
              "      <td>alaa ebraheem</td>\n",
              "      <td>alaa.doe@example.com</td>\n",
              "    </tr>\n",
              "    <tr>\n",
              "      <th>1</th>\n",
              "      <td>ibrahim ahmed</td>\n",
              "      <td>ibrahim.smith@example.com</td>\n",
              "    </tr>\n",
              "    <tr>\n",
              "      <th>2</th>\n",
              "      <td>yasmeen omar</td>\n",
              "      <td>yasmeen.johnson@example.com</td>\n",
              "    </tr>\n",
              "  </tbody>\n",
              "</table>\n",
              "</div>"
            ],
            "text/plain": [
              "            name                        email\n",
              "0  alaa ebraheem         alaa.doe@example.com\n",
              "1  ibrahim ahmed    ibrahim.smith@example.com\n",
              "2   yasmeen omar  yasmeen.johnson@example.com"
            ]
          },
          "execution_count": 19,
          "metadata": {},
          "output_type": "execute_result"
        }
      ],
      "source": [
        "data={'name':['alaa ebraheem','ibrahim ahmed','yasmeen omar'],\n",
        "     'email':['alaa.doe@example.com', 'ibrahim.smith@example.com', 'yasmeen.johnson@example.com']}\n",
        "data=pd.DataFrame(data)\n",
        "data"
      ]
    },
    {
      "cell_type": "markdown",
      "id": "12697b3d",
      "metadata": {
        "id": "12697b3d"
      },
      "source": [
        "# Masking Data with Regular Expressions"
      ]
    },
    {
      "cell_type": "raw",
      "id": "6988ac78",
      "metadata": {
        "id": "6988ac78"
      },
      "source": [
        "Data masking is a vital technique for protecting sensitive data."
      ]
    },
    {
      "cell_type": "code",
      "execution_count": null,
      "id": "436c242e",
      "metadata": {
        "id": "436c242e"
      },
      "outputs": [],
      "source": [
        "\n",
        "def mask_email(email):\n",
        "    return re.sub('[A-Za-z0-9._%+-]+@[A-Za-z0-9.-]+\\.[A-Z|a-z]{2,}','xxxxx@xxxxx.com',email)"
      ]
    },
    {
      "cell_type": "code",
      "execution_count": null,
      "id": "8b8b7cee",
      "metadata": {
        "id": "8b8b7cee"
      },
      "outputs": [],
      "source": [
        "data['email']=data['email'].apply(mask_email)"
      ]
    },
    {
      "cell_type": "code",
      "execution_count": null,
      "id": "83931296",
      "metadata": {
        "id": "83931296",
        "outputId": "15a919e3-828b-4bb5-b89e-a0285787afe2"
      },
      "outputs": [
        {
          "data": {
            "text/html": [
              "<div>\n",
              "<style scoped>\n",
              "    .dataframe tbody tr th:only-of-type {\n",
              "        vertical-align: middle;\n",
              "    }\n",
              "\n",
              "    .dataframe tbody tr th {\n",
              "        vertical-align: top;\n",
              "    }\n",
              "\n",
              "    .dataframe thead th {\n",
              "        text-align: right;\n",
              "    }\n",
              "</style>\n",
              "<table border=\"1\" class=\"dataframe\">\n",
              "  <thead>\n",
              "    <tr style=\"text-align: right;\">\n",
              "      <th></th>\n",
              "      <th>name</th>\n",
              "      <th>email</th>\n",
              "    </tr>\n",
              "  </thead>\n",
              "  <tbody>\n",
              "    <tr>\n",
              "      <th>0</th>\n",
              "      <td>alaa ebraheem</td>\n",
              "      <td>xxxxx@xxxxx.com</td>\n",
              "    </tr>\n",
              "    <tr>\n",
              "      <th>1</th>\n",
              "      <td>ibrahim ahmed</td>\n",
              "      <td>xxxxx@xxxxx.com</td>\n",
              "    </tr>\n",
              "    <tr>\n",
              "      <th>2</th>\n",
              "      <td>yasmeen omar</td>\n",
              "      <td>xxxxx@xxxxx.com</td>\n",
              "    </tr>\n",
              "  </tbody>\n",
              "</table>\n",
              "</div>"
            ],
            "text/plain": [
              "            name            email\n",
              "0  alaa ebraheem  xxxxx@xxxxx.com\n",
              "1  ibrahim ahmed  xxxxx@xxxxx.com\n",
              "2   yasmeen omar  xxxxx@xxxxx.com"
            ]
          },
          "execution_count": 25,
          "metadata": {},
          "output_type": "execute_result"
        }
      ],
      "source": [
        "data"
      ]
    },
    {
      "cell_type": "code",
      "execution_count": null,
      "id": "6982ef74",
      "metadata": {
        "id": "6982ef74"
      },
      "outputs": [],
      "source": []
    }
  ],
  "metadata": {
    "kernelspec": {
      "display_name": "Python 3 (ipykernel)",
      "language": "python",
      "name": "python3"
    },
    "language_info": {
      "codemirror_mode": {
        "name": "ipython",
        "version": 3
      },
      "file_extension": ".py",
      "mimetype": "text/x-python",
      "name": "python",
      "nbconvert_exporter": "python",
      "pygments_lexer": "ipython3",
      "version": "3.9.7"
    },
    "colab": {
      "provenance": []
    }
  },
  "nbformat": 4,
  "nbformat_minor": 5
}